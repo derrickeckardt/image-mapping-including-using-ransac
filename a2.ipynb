{
 "cells": [
  {
   "cell_type": "code",
   "execution_count": 2,
   "metadata": {},
   "outputs": [],
   "source": [
    "import sys\n",
    "import cProfile\n",
    "import numpy\n",
    "import scipy\n",
    "import time\n",
    "import cv2\n",
    "from pprint import pprint"
   ]
  },
  {
   "cell_type": "markdown",
   "metadata": {},
   "source": [
    "Simulate sys input for part 1"
   ]
  },
  {
   "cell_type": "code",
   "execution_count": 3,
   "metadata": {},
   "outputs": [],
   "source": [
    "sys_argv = {}\n",
    "sys_argv[1] = \"part1\"  # code section\n",
    "sys_argv[2] = 5  # number of groupings\n",
    "sys_argv[3] = \"output_file.txt\"\n",
    "input_images = {0: 'part1-images/bigben_10.jpg', 1: 'part1-images/bigben_12.jpg', 2: 'part1-images/bigben_13.jpg', 3: 'part1-images/bigben_14.jpg', 4: 'part1-images/bigben_16.jpg', 5: 'part1-images/bigben_2.jpg', 6: 'part1-images/bigben_3.jpg', 7: 'part1-images/bigben_6.jpg', 8: 'part1-images/bigben_7.jpg', 9: 'part1-images/bigben_8.jpg', 10: 'part1-images/colosseum_11.jpg', 11: 'part1-images/colosseum_12.jpg', 12: 'part1-images/colosseum_13.jpg', 13: 'part1-images/colosseum_15.jpg', 14: 'part1-images/colosseum_18.jpg', 15: 'part1-images/colosseum_3.jpg', 16: 'part1-images/colosseum_4.jpg', 17: 'part1-images/colosseum_5.jpg', 18: 'part1-images/colosseum_6.jpg', 19: 'part1-images/colosseum_8.jpg', 20: 'part1-images/eiffel_15.jpg', 21: 'part1-images/eiffel_18.jpg', 22: 'part1-images/eiffel_19.jpg', 23: 'part1-images/eiffel_1.jpg', 24: 'part1-images/eiffel_22.jpg', 25: 'part1-images/eiffel_2.jpg', 26: 'part1-images/eiffel_3.jpg', 27: 'part1-images/eiffel_5.jpg', 28: 'part1-images/eiffel_6.jpg', 29: 'part1-images/eiffel_7.jpg', 30: 'part1-images/empirestate_10.jpg', 31: 'part1-images/empirestate_12.jpg', 32: 'part1-images/empirestate_14.jpg', 33: 'part1-images/empirestate_15.jpg', 34: 'part1-images/empirestate_16.jpg', 35: 'part1-images/empirestate_22.jpg', 36: 'part1-images/empirestate_23.jpg', 37: 'part1-images/empirestate_25.jpg', 38: 'part1-images/empirestate_27.jpg', 39: 'part1-images/empirestate_9.jpg', 40: 'part1-images/londoneye_12.jpg', 41: 'part1-images/londoneye_13.jpg', 42: 'part1-images/londoneye_16.jpg', 43: 'part1-images/londoneye_17.jpg', 44: 'part1-images/londoneye_21.jpg', 45: 'part1-images/londoneye_22.jpg', 46: 'part1-images/londoneye_23.jpg', 47: 'part1-images/londoneye_2.jpg', 48: 'part1-images/londoneye_8.jpg', 49: 'part1-images/londoneye_9.jpg', 50: 'part1-images/louvre_10.jpg', 51: 'part1-images/louvre_11.jpg', 52: 'part1-images/louvre_13.jpg', 53: 'part1-images/louvre_14.jpg', 54: 'part1-images/louvre_15.jpg', 55: 'part1-images/louvre_16.jpg', 56: 'part1-images/louvre_3.jpg', 57: 'part1-images/louvre_4.jpg', 58: 'part1-images/louvre_8.jpg', 59: 'part1-images/louvre_9.jpg', 60: 'part1-images/notredame_14.jpg', 61: 'part1-images/notredame_19.jpg', 62: 'part1-images/notredame_1.jpg', 63: 'part1-images/notredame_20.jpg', 64: 'part1-images/notredame_24.jpg', 65: 'part1-images/notredame_25.jpg', 66: 'part1-images/notredame_4.jpg', 67: 'part1-images/notredame_5.jpg', 68: 'part1-images/notredame_8.jpg', 69: 'part1-images/sanmarco_13.jpg', 70: 'part1-images/sanmarco_14.jpg', 71: 'part1-images/sanmarco_18.jpg', 72: 'part1-images/sanmarco_19.jpg', 73: 'part1-images/sanmarco_1.jpg', 74: 'part1-images/sanmarco_3.jpg', 75: 'part1-images/sanmarco_4.jpg', 76: 'part1-images/sanmarco_5.jpg', 77: 'part1-images/tatemodern_11.jpg', 78: 'part1-images/tatemodern_13.jpg', 79: 'part1-images/tatemodern_14.jpg', 80: 'part1-images/tatemodern_16.jpg', 81: 'part1-images/tatemodern_24.jpg', 82: 'part1-images/tatemodern_2.jpg', 83: 'part1-images/tatemodern_4.jpg', 84: 'part1-images/tatemodern_6.jpg', 85: 'part1-images/tatemodern_8.jpg', 86: 'part1-images/tatemodern_9.jpg', 87: 'part1-images/trafalgarsquare_15.jpg', 88: 'part1-images/trafalgarsquare_16.jpg', 89: 'part1-images/trafalgarsquare_20.jpg', 90: 'part1-images/trafalgarsquare_21.jpg', 91: 'part1-images/trafalgarsquare_22.jpg', 92: 'part1-images/trafalgarsquare_25.jpg'}"
   ]
  },
  {
   "cell_type": "markdown",
   "metadata": {},
   "source": [
    "Main code for Part 1"
   ]
  },
  {
   "cell_type": "code",
   "execution_count": 17,
   "metadata": {},
   "outputs": [
    {
     "name": "stdout",
     "output_type": "stream",
     "text": [
      "(204.0, 264.0) 31.0\n",
      "(188.0, 282.0) 31.0\n",
      "(283.0, 283.0) 31.0\n",
      "(252.0, 340.0) 31.0\n",
      "(115.0, 331.0) 31.0\n",
      "(336.0, 135.0) 31.0\n",
      "(75.0, 324.0) 31.0\n",
      "(301.0, 124.0) 31.0\n",
      "(263.0, 122.0) 31.0\n",
      "(409.0, 265.0) 31.0\n",
      "(364.0, 226.0) 31.0\n",
      "(370.0, 206.0) 31.0\n",
      "(377.0, 207.0) 31.0\n",
      "(67.0, 173.0) 31.0\n",
      "(76.0, 276.0) 31.0\n",
      "(252.0, 124.0) 31.0\n",
      "(429.0, 153.0) 31.0\n",
      "(88.0, 187.0) 31.0\n",
      "(415.0, 31.0) 31.0\n",
      "(289.0, 76.0) 31.0\n",
      "(119.0, 296.0) 31.0\n",
      "(304.0, 326.0) 31.0\n",
      "(195.0, 408.0) 31.0\n",
      "(169.0, 197.0) 31.0\n",
      "(262.0, 238.0) 31.0\n",
      "(324.0, 280.0) 31.0\n",
      "(204.0, 350.0) 31.0\n",
      "(120.0, 314.0) 31.0\n",
      "(336.0, 284.0) 31.0\n",
      "(267.0, 324.0) 31.0\n",
      "(259.0, 350.0) 31.0\n",
      "(310.0, 121.0) 31.0\n",
      "(274.0, 171.0) 31.0\n",
      "(48.0, 54.0) 31.0\n",
      "(156.0, 163.0) 31.0\n",
      "(129.0, 237.0) 31.0\n",
      "(381.0, 216.0) 31.0\n",
      "(362.0, 33.0) 31.0\n",
      "(316.0, 326.0) 31.0\n",
      "(240.0, 121.0) 31.0\n",
      "(43.0, 282.0) 31.0\n",
      "(176.0, 272.0) 31.0\n",
      "(265.0, 203.0) 31.0\n",
      "(378.0, 306.0) 31.0\n",
      "(108.0, 150.0) 31.0\n",
      "(266.0, 46.0) 31.0\n",
      "(181.0, 158.0) 31.0\n",
      "(215.0, 419.0) 31.0\n",
      "(113.0, 212.0) 31.0\n",
      "(315.0, 156.0) 31.0\n",
      "(126.0, 111.0) 31.0\n",
      "(328.0, 203.0) 31.0\n",
      "(281.0, 55.0) 31.0\n",
      "(195.0, 87.0) 31.0\n",
      "(192.0, 122.0) 31.0\n",
      "(241.0, 53.0) 31.0\n",
      "(219.0, 199.0) 31.0\n",
      "(377.0, 233.0) 31.0\n",
      "(174.0, 243.0) 31.0\n",
      "(299.0, 172.0) 31.0\n",
      "(80.0, 146.0) 31.0\n",
      "(36.0, 357.0) 31.0\n",
      "(153.0, 143.0) 31.0\n",
      "(102.0, 33.0) 31.0\n",
      "(71.0, 376.0) 31.0\n",
      "(187.0, 214.0) 31.0\n",
      "(69.0, 81.0) 31.0\n",
      "(97.0, 156.0) 31.0\n",
      "(247.0, 321.0) 31.0\n",
      "(213.0, 180.0) 31.0\n",
      "(46.0, 211.0) 31.0\n",
      "(403.0, 259.0) 31.0\n",
      "(344.0, 158.0) 31.0\n",
      "(239.0, 397.0) 31.0\n",
      "(388.0, 276.0) 31.0\n",
      "(392.0, 260.0) 31.0\n",
      "(98.0, 31.0) 31.0\n",
      "(212.0, 83.0) 31.0\n",
      "(72.0, 153.0) 31.0\n",
      "(111.0, 103.0) 31.0\n",
      "(170.0, 255.0) 31.0\n",
      "(361.0, 262.0) 31.0\n",
      "(346.0, 209.0) 31.0\n",
      "(322.0, 31.0) 31.0\n",
      "(427.0, 103.0) 31.0\n",
      "(153.0, 32.0) 31.0\n",
      "(285.0, 75.0) 31.0\n",
      "(119.0, 151.0) 31.0\n",
      "(387.0, 201.0) 31.0\n",
      "(50.0, 184.0) 31.0\n",
      "(35.0, 178.0) 31.0\n",
      "(420.0, 272.0) 31.0\n",
      "(430.0, 192.0) 31.0\n",
      "7.1447913646698\n"
     ]
    }
   ],
   "source": [
    "# def part1():\n",
    "starttime = time.time()\n",
    "# change sys_argv  to sys.argv for linux version\n",
    "k, output_file = sys_argv[2],sys_argv[3]  # change to -1 for output_file\n",
    "#   commented out for jupyter\n",
    "#   input_images = {}\n",
    "#     for i in range(3,len(sys.argv)-1):\n",
    "#         input_images[i-3] = sys.argv[i]\n",
    "\n",
    "# Checks to see if a keypoint is within another keypoint\n",
    "def within_circle(keypoint1, keypoint2):\n",
    "    proj = (keypoint1.size/2) / (2 ** (0.5))\n",
    "    if keypoint1.pt[0] - proj < keypoint2.pt[0] and keypoint1.pt[0] + proj > keypoint2.pt[0]:\n",
    "        if keypoint1.pt[1] - proj < keypoint2.pt[1] and keypoint1.pt[1] + proj > keypoint2.pt[1]:\n",
    "            return True\n",
    "        else:\n",
    "            return False\n",
    "    else:\n",
    "        return False\n",
    "\n",
    "# get keypoints and descriptors for each image\n",
    "orb_images = {}\n",
    "for key, image in input_images.items():\n",
    "    orb_images[image] = {}\n",
    "    img = cv2.imread(image, cv2.IMREAD_GRAYSCALE)\n",
    "    orb = cv2.ORB_create(nfeatures=1000)\n",
    "    keypoints, descriptors = orb.detectAndCompute(img, None)\n",
    "#     print(keypoints[1].pt, keypoints[1].size)\n",
    "    \n",
    "        \n",
    "#     for i in range(len(keypoints)):\n",
    "        \n",
    "        \n",
    "        \n",
    "#     for keypoint1, descriptor in zip(keypoints, descriptors):\n",
    "        \n",
    "        \n",
    "    \n",
    "    orb_images[image]['keypoints'], orb_images[image]['descriptors'] = orb.detectAndCompute(img, None)\n",
    "\n",
    "    # non-maximal supression - using a 5x5 pixel grid\n",
    "\n",
    "print(time.time() - starttime)"
   ]
  },
  {
   "cell_type": "code",
   "execution_count": 22,
   "metadata": {},
   "outputs": [
    {
     "name": "stdout",
     "output_type": "stream",
     "text": [
      "my bfer {'part1-images/bigben_10.jpg': 957, 'part1-images/bigben_12.jpg': 495, 'part1-images/bigben_13.jpg': 538, 'part1-images/bigben_14.jpg': 462, 'part1-images/bigben_16.jpg': 353, 'part1-images/bigben_2.jpg': 506, 'part1-images/bigben_3.jpg': 389, 'part1-images/bigben_6.jpg': 400, 'part1-images/bigben_7.jpg': 354, 'part1-images/bigben_8.jpg': 423, 'part1-images/colosseum_11.jpg': 528, 'part1-images/colosseum_12.jpg': 489, 'part1-images/colosseum_13.jpg': 422, 'part1-images/colosseum_15.jpg': 505, 'part1-images/colosseum_18.jpg': 504, 'part1-images/colosseum_3.jpg': 491, 'part1-images/colosseum_4.jpg': 489, 'part1-images/colosseum_5.jpg': 466, 'part1-images/colosseum_6.jpg': 396, 'part1-images/colosseum_8.jpg': 422, 'part1-images/eiffel_15.jpg': 477, 'part1-images/eiffel_18.jpg': 383, 'part1-images/eiffel_19.jpg': 351, 'part1-images/eiffel_1.jpg': 431, 'part1-images/eiffel_22.jpg': 497, 'part1-images/eiffel_2.jpg': 407, 'part1-images/eiffel_3.jpg': 499, 'part1-images/eiffel_5.jpg': 464, 'part1-images/eiffel_6.jpg': 427, 'part1-images/eiffel_7.jpg': 407, 'part1-images/empirestate_10.jpg': 461, 'part1-images/empirestate_12.jpg': 493, 'part1-images/empirestate_14.jpg': 489, 'part1-images/empirestate_15.jpg': 475, 'part1-images/empirestate_16.jpg': 504, 'part1-images/empirestate_22.jpg': 446, 'part1-images/empirestate_23.jpg': 450, 'part1-images/empirestate_25.jpg': 483, 'part1-images/empirestate_27.jpg': 430, 'part1-images/empirestate_9.jpg': 466, 'part1-images/londoneye_12.jpg': 363, 'part1-images/londoneye_13.jpg': 397, 'part1-images/londoneye_16.jpg': 350, 'part1-images/londoneye_17.jpg': 361, 'part1-images/londoneye_21.jpg': 502, 'part1-images/londoneye_22.jpg': 393, 'part1-images/londoneye_23.jpg': 419, 'part1-images/londoneye_2.jpg': 507, 'part1-images/londoneye_8.jpg': 439, 'part1-images/londoneye_9.jpg': 476, 'part1-images/louvre_10.jpg': 523, 'part1-images/louvre_11.jpg': 474, 'part1-images/louvre_13.jpg': 450, 'part1-images/louvre_14.jpg': 416, 'part1-images/louvre_15.jpg': 482, 'part1-images/louvre_16.jpg': 483, 'part1-images/louvre_3.jpg': 505, 'part1-images/louvre_4.jpg': 489, 'part1-images/louvre_8.jpg': 501, 'part1-images/louvre_9.jpg': 463, 'part1-images/notredame_14.jpg': 481, 'part1-images/notredame_19.jpg': 422, 'part1-images/notredame_1.jpg': 456, 'part1-images/notredame_20.jpg': 363, 'part1-images/notredame_24.jpg': 462, 'part1-images/notredame_25.jpg': 392, 'part1-images/notredame_4.jpg': 484, 'part1-images/notredame_5.jpg': 511, 'part1-images/notredame_8.jpg': 464, 'part1-images/sanmarco_13.jpg': 504, 'part1-images/sanmarco_14.jpg': 405, 'part1-images/sanmarco_18.jpg': 489, 'part1-images/sanmarco_19.jpg': 473, 'part1-images/sanmarco_1.jpg': 486, 'part1-images/sanmarco_3.jpg': 539, 'part1-images/sanmarco_4.jpg': 516, 'part1-images/sanmarco_5.jpg': 457, 'part1-images/tatemodern_11.jpg': 389, 'part1-images/tatemodern_13.jpg': 329, 'part1-images/tatemodern_14.jpg': 488, 'part1-images/tatemodern_16.jpg': 451, 'part1-images/tatemodern_24.jpg': 476, 'part1-images/tatemodern_2.jpg': 453, 'part1-images/tatemodern_4.jpg': 169, 'part1-images/tatemodern_6.jpg': 380, 'part1-images/tatemodern_8.jpg': 409, 'part1-images/tatemodern_9.jpg': 408, 'part1-images/trafalgarsquare_15.jpg': 499, 'part1-images/trafalgarsquare_16.jpg': 501, 'part1-images/trafalgarsquare_20.jpg': 421, 'part1-images/trafalgarsquare_21.jpg': 462, 'part1-images/trafalgarsquare_22.jpg': 505, 'part1-images/trafalgarsquare_25.jpg': 461}\n",
      "1.3909037113189697\n"
     ]
    }
   ],
   "source": [
    "starttime = time.time()\n",
    "common_points_matrix = {}\n",
    "for key1, image1 in input_images.items():\n",
    "    common_points_matrix[image1] = {}\n",
    "    for key2, image2 in input_images.items():\n",
    "        common_points = 0\n",
    "        max_distance = 0\n",
    "        bf = cv2.BFMatcher(cv2.NORM_HAMMING, crossCheck = True)\n",
    "#         matches = bf.match(orb_images[image1]['descriptors'],orb_images[image2]['descriptors'])\n",
    "        if image1 == 'part1-images/bigben_10.jpg':\n",
    "            matches = bf.match(orb_images[image1]['descriptors'],orb_images[image2]['descriptors'])\n",
    "#             print(\"bfmatcher\", len(matches))\n",
    "#             print(time.time() - starttime)\n",
    "#             for descriptor1 in orb_images[image1]['descriptors']:\n",
    "#                 for descriptor2 in orb_images[image2]['descriptors']:\n",
    "#                     distance = cv2.norm(descriptor1, descriptor2, cv2.NORM_HAMMING)\n",
    "#                     if distance <= 70.0:\n",
    "#                         common_points += 1\n",
    "#                         break\n",
    "            len_matches = len(matches)\n",
    "        else:\n",
    "            len_matches = 0\n",
    "        common_points_matrix[image1][image2] = len_matches # common_points\n",
    "\n",
    "print(\"my bfer\", common_points_matrix['part1-images/bigben_10.jpg'])\n",
    "\n",
    "print(time.time() - starttime)\n"
   ]
  },
  {
   "cell_type": "code",
   "execution_count": null,
   "metadata": {},
   "outputs": [],
   "source": []
  },
  {
   "cell_type": "code",
   "execution_count": null,
   "metadata": {},
   "outputs": [],
   "source": []
  },
  {
   "cell_type": "code",
   "execution_count": null,
   "metadata": {},
   "outputs": [],
   "source": []
  },
  {
   "cell_type": "markdown",
   "metadata": {},
   "source": [
    "Main Program"
   ]
  },
  {
   "cell_type": "code",
   "execution_count": null,
   "metadata": {},
   "outputs": [],
   "source": []
  },
  {
   "cell_type": "code",
   "execution_count": null,
   "metadata": {},
   "outputs": [],
   "source": []
  },
  {
   "cell_type": "code",
   "execution_count": null,
   "metadata": {},
   "outputs": [],
   "source": [
    "# Load each image, and get the keypoints and descriptors for each image\n",
    "\n",
    "# compare each image to each other, and look for common points\n",
    "\n",
    "# Optional -- non-maximal suppression\n",
    "# eliminate descriptors within the image that are similar to other ones\n",
    "# initial threshold = 0.95\n",
    "\n",
    "# for each image, count descriptors that are the same, within a threshold\n",
    "# initial threshold = 0.95 (a guess)\n",
    "\n",
    "# save a matrix of how many descriptors in common.\n",
    "\n",
    "# kmeans approach\n",
    "# then, pick k random images to be the \"center images\"\n",
    "# then, by voting, assign them to a group. count the number of common points in each group.\n",
    "# iterate for new centroids\n",
    "# take the worst performing centroid, and randomly picking a new one,#\n",
    "# check to make sure it's a new point, also check to make sure it's substantially different\n",
    "# than the one it replaced?\n",
    "\n",
    "\n",
    "# grouping\n",
    "# take first image and make that a group\n",
    "# take second image, and if it is close enough to first group, put as part of first group\n",
    "# if not, create second group.\n",
    "# third image is compared to two groups, if it doesn't cross the threshold, a new group is formed\n",
    "# all the way until max number of groups is reached, or images are done.\n",
    "# if max hit, then it goes to the one it fits with the best\n",
    "# initial threshold\n",
    "\n",
    "# alternate kmeans\n",
    "# similar images would be likely similarily dissimilar, so I can use their difference to\n",
    "# a reference point...but what reference point??"
   ]
  },
  {
   "cell_type": "code",
   "execution_count": null,
   "metadata": {},
   "outputs": [],
   "source": [
    "import cv2\n",
    "import numpy as np\n",
    " \n",
    "img = cv2.imread(\"part1-images/bigben_10.jpg\", cv2.IMREAD_GRAYSCALE)\n",
    "\n",
    "# you can increase nfeatures to adjust how many features to detect \n",
    "orb = cv2.ORB_create(nfeatures=1000)\n",
    "\n",
    "# detect features \n",
    "(keypoints, descriptors) = orb.detectAndCompute(img, None)\n",
    "\n",
    "# put a little X on each feature\n",
    "for i in range(0, len(keypoints)):\n",
    "    print(\"Keypoint #%d: x=%d, y=%d, descriptor=%s, distance between this descriptor and descriptor #0 is %d\" % (i, keypoints[i].pt[0], keypoints[i].pt[1], np.array2string(descriptors[i]), cv2.norm( descriptors[0], descriptors[i], cv2.NORM_HAMMING)))\n",
    "    print(cv2.norm( descriptors[0], descriptors[i], cv2.NORM_HAMMING))\n",
    "    print('\\n')\n",
    "    for j in range(-5, 5):\n",
    "        img[int(keypoints[i].pt[1])+j, int(keypoints[i].pt[0])+j] = 0 \n",
    "        img[int(keypoints[i].pt[1])-j, int(keypoints[i].pt[0])+j] = 255 \n",
    "\n",
    "cv2.imwrite(\"lincoln-orb.jpg\", img)"
   ]
  },
  {
   "cell_type": "markdown",
   "metadata": {},
   "source": [
    "Main Program"
   ]
  },
  {
   "cell_type": "code",
   "execution_count": null,
   "metadata": {},
   "outputs": [],
   "source": [
    "if part == \"part1\":\n",
    "    cProfile.run(\"part1()\")\n",
    "elif part == \"part2\":\n",
    "    print(part)\n",
    "elif part == \"part3\":\n",
    "    print(part)\n",
    "else:\n",
    "    print(\"You did not enter 'part1', 'part2', or 'part3' to run the program. Please check your input.  Thank you.\")\n"
   ]
  }
 ],
 "metadata": {
  "kernelspec": {
   "display_name": "Python 3",
   "language": "python",
   "name": "python3"
  },
  "language_info": {
   "codemirror_mode": {
    "name": "ipython",
    "version": 3
   },
   "file_extension": ".py",
   "mimetype": "text/x-python",
   "name": "python",
   "nbconvert_exporter": "python",
   "pygments_lexer": "ipython3",
   "version": "3.7.1"
  }
 },
 "nbformat": 4,
 "nbformat_minor": 2
}
