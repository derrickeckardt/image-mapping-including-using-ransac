{
 "cells": [
  {
   "cell_type": "code",
   "execution_count": 13,
   "metadata": {},
   "outputs": [],
   "source": [
    "import sys\n",
    "import cProfile\n",
    "import numpy\n",
    "import scipy"
   ]
  },
  {
   "cell_type": "markdown",
   "metadata": {},
   "source": [
    "Simulate sys input for part 1"
   ]
  },
  {
   "cell_type": "code",
   "execution_count": 14,
   "metadata": {},
   "outputs": [],
   "source": [
    "sys_argv = {}\n",
    "sys_argv[1] = \"part1\"  # code section\n",
    "sys_argv[2] = 5  # number of groupings\n",
    "sys_argv[3] = \"output_file.txt\"\n",
    "input_images = {0: 'part1-images/bigben_10.jpg', 1: 'part1-images/bigben_12.jpg', 2: 'part1-images/bigben_13.jpg', 3: 'part1-images/bigben_14.jpg', 4: 'part1-images/bigben_16.jpg', 5: 'part1-images/bigben_2.jpg', 6: 'part1-images/bigben_3.jpg', 7: 'part1-images/bigben_6.jpg', 8: 'part1-images/bigben_7.jpg', 9: 'part1-images/bigben_8.jpg', 10: 'part1-images/colosseum_11.jpg', 11: 'part1-images/colosseum_12.jpg', 12: 'part1-images/colosseum_13.jpg', 13: 'part1-images/colosseum_15.jpg', 14: 'part1-images/colosseum_18.jpg', 15: 'part1-images/colosseum_3.jpg', 16: 'part1-images/colosseum_4.jpg', 17: 'part1-images/colosseum_5.jpg', 18: 'part1-images/colosseum_6.jpg', 19: 'part1-images/colosseum_8.jpg', 20: 'part1-images/eiffel_15.jpg', 21: 'part1-images/eiffel_18.jpg', 22: 'part1-images/eiffel_19.jpg', 23: 'part1-images/eiffel_1.jpg', 24: 'part1-images/eiffel_22.jpg', 25: 'part1-images/eiffel_2.jpg', 26: 'part1-images/eiffel_3.jpg', 27: 'part1-images/eiffel_5.jpg', 28: 'part1-images/eiffel_6.jpg', 29: 'part1-images/eiffel_7.jpg', 30: 'part1-images/empirestate_10.jpg', 31: 'part1-images/empirestate_12.jpg', 32: 'part1-images/empirestate_14.jpg', 33: 'part1-images/empirestate_15.jpg', 34: 'part1-images/empirestate_16.jpg', 35: 'part1-images/empirestate_22.jpg', 36: 'part1-images/empirestate_23.jpg', 37: 'part1-images/empirestate_25.jpg', 38: 'part1-images/empirestate_27.jpg', 39: 'part1-images/empirestate_9.jpg', 40: 'part1-images/londoneye_12.jpg', 41: 'part1-images/londoneye_13.jpg', 42: 'part1-images/londoneye_16.jpg', 43: 'part1-images/londoneye_17.jpg', 44: 'part1-images/londoneye_21.jpg', 45: 'part1-images/londoneye_22.jpg', 46: 'part1-images/londoneye_23.jpg', 47: 'part1-images/londoneye_2.jpg', 48: 'part1-images/londoneye_8.jpg', 49: 'part1-images/londoneye_9.jpg', 50: 'part1-images/louvre_10.jpg', 51: 'part1-images/louvre_11.jpg', 52: 'part1-images/louvre_13.jpg', 53: 'part1-images/louvre_14.jpg', 54: 'part1-images/louvre_15.jpg', 55: 'part1-images/louvre_16.jpg', 56: 'part1-images/louvre_3.jpg', 57: 'part1-images/louvre_4.jpg', 58: 'part1-images/louvre_8.jpg', 59: 'part1-images/louvre_9.jpg', 60: 'part1-images/notredame_14.jpg', 61: 'part1-images/notredame_19.jpg', 62: 'part1-images/notredame_1.jpg', 63: 'part1-images/notredame_20.jpg', 64: 'part1-images/notredame_24.jpg', 65: 'part1-images/notredame_25.jpg', 66: 'part1-images/notredame_4.jpg', 67: 'part1-images/notredame_5.jpg', 68: 'part1-images/notredame_8.jpg', 69: 'part1-images/sanmarco_13.jpg', 70: 'part1-images/sanmarco_14.jpg', 71: 'part1-images/sanmarco_18.jpg', 72: 'part1-images/sanmarco_19.jpg', 73: 'part1-images/sanmarco_1.jpg', 74: 'part1-images/sanmarco_3.jpg', 75: 'part1-images/sanmarco_4.jpg', 76: 'part1-images/sanmarco_5.jpg', 77: 'part1-images/tatemodern_11.jpg', 78: 'part1-images/tatemodern_13.jpg', 79: 'part1-images/tatemodern_14.jpg', 80: 'part1-images/tatemodern_16.jpg', 81: 'part1-images/tatemodern_24.jpg', 82: 'part1-images/tatemodern_2.jpg', 83: 'part1-images/tatemodern_4.jpg', 84: 'part1-images/tatemodern_6.jpg', 85: 'part1-images/tatemodern_8.jpg', 86: 'part1-images/tatemodern_9.jpg', 87: 'part1-images/trafalgarsquare_15.jpg', 88: 'part1-images/trafalgarsquare_16.jpg', 89: 'part1-images/trafalgarsquare_20.jpg', 90: 'part1-images/trafalgarsquare_21.jpg', 91: 'part1-images/trafalgarsquare_22.jpg', 92: 'part1-images/trafalgarsquare_25.jpg'}"
   ]
  },
  {
   "cell_type": "code",
   "execution_count": 31,
   "metadata": {},
   "outputs": [],
   "source": [
    "# Load each image, and get the keypoints and descriptors for each image\n",
    "\n",
    "# compare each image to each other, and look for common points\n",
    "\n",
    "# Optional -- non-maximal suppression\n",
    "# eliminate descriptors within the image that are similar to other ones\n",
    "# initial threshold = 0.95\n",
    "\n",
    "# for each image, count descriptors that are the same, within a threshold\n",
    "# initial threshold = 0.95 (a guess)\n",
    "\n",
    "# save a matrix of how many descriptors in common.\n",
    "\n",
    "# kmeans approach\n",
    "# then, pick k random images to be the \"center images\"\n",
    "# then, by voting, assign them to a group. count the number of common points in each group.\n",
    "# iterate for new centroids\n",
    "# take the worst performing centroid, and randomly picking a new one,#\n",
    "# check to make sure it's a new point, also check to make sure it's substantially different\n",
    "# than the one it replaced?\n",
    "\n",
    "\n",
    "# grouping\n",
    "# take first image and make that a group\n",
    "# take second image, and if it is close enough to first group, put as part of first group\n",
    "# if not, create second group.\n",
    "# third image is compared to two groups, if it doesn't cross the threshold, a new group is formed\n",
    "# all the way until max number of groups is reached, or images are done.\n",
    "# if max hit, then it goes to the one it fits with the best\n",
    "# initial threshold\n",
    "\n",
    "# alternate kmeans\n",
    "# similar images would be likely similarily dissimilar, so I can use their difference to\n",
    "# a reference point...but what reference point??\n"
   ]
  },
  {
   "cell_type": "code",
   "execution_count": 27,
   "metadata": {},
   "outputs": [],
   "source": [
    "def kmeans(k):\n",
    "    \n",
    "    return 0"
   ]
  },
  {
   "cell_type": "code",
   "execution_count": 37,
   "metadata": {},
   "outputs": [
    {
     "data": {
      "text/plain": [
       "True"
      ]
     },
     "execution_count": 37,
     "metadata": {},
     "output_type": "execute_result"
    }
   ],
   "source": [
    "import cv2\n",
    "import numpy as np\n",
    " \n",
    "img = cv2.imread(\"part1-images/bigben_10.jpg\", cv2.IMREAD_GRAYSCALE)\n",
    "\n",
    "# you can increase nfeatures to adjust how many features to detect \n",
    "orb = cv2.ORB_create(nfeatures=1000)\n",
    "\n",
    "# detect features \n",
    "(keypoints, descriptors) = orb.detectAndCompute(img, None)\n",
    "\n",
    "# put a little X on each feature\n",
    "for i in range(0, len(keypoints)):\n",
    "   #print(\"Keypoint #%d: x=%d, y=%d, descriptor=%s, distance between this descriptor and descriptor #0 is %d\" % (i, keypoints[i].pt[0], keypoints[i].pt[1], np.array2string(descriptors[i]), cv2.norm( descriptors[0], descriptors[i], cv2.NORM_HAMMING)))\n",
    "   for j in range(-5, 5):\n",
    "      img[int(keypoints[i].pt[1])+j, int(keypoints[i].pt[0])+j] = 0 \n",
    "      img[int(keypoints[i].pt[1])-j, int(keypoints[i].pt[0])+j] = 255 \n",
    "\n",
    "cv2.imwrite(\"lincoln-orb.jpg\", img)"
   ]
  },
  {
   "cell_type": "markdown",
   "metadata": {},
   "source": [
    "Main code for Part 1"
   ]
  },
  {
   "cell_type": "code",
   "execution_count": 25,
   "metadata": {},
   "outputs": [],
   "source": [
    "def part1():\n",
    "    # change sys_argv  to sys.argv for linux version\n",
    "    k, output_file = sys_argv[2],sys_argv[3]  # change to -1 for output_file\n",
    "    #   commented out for jupyter\n",
    "    #   input_images = {}\n",
    "    #     for i in range(3,len(sys.argv)-1):\n",
    "    #         input_images[i-3] = sys.argv[i]\n"
   ]
  },
  {
   "cell_type": "markdown",
   "metadata": {},
   "source": [
    "Main Program"
   ]
  },
  {
   "cell_type": "code",
   "execution_count": 26,
   "metadata": {},
   "outputs": [
    {
     "name": "stdout",
     "output_type": "stream",
     "text": [
      "         4 function calls in 0.000 seconds\n",
      "\n",
      "   Ordered by: standard name\n",
      "\n",
      "   ncalls  tottime  percall  cumtime  percall filename:lineno(function)\n",
      "        1    0.000    0.000    0.000    0.000 <ipython-input-25-c3dc82a92d2f>:1(part1)\n",
      "        1    0.000    0.000    0.000    0.000 <string>:1(<module>)\n",
      "        1    0.000    0.000    0.000    0.000 {built-in method builtins.exec}\n",
      "        1    0.000    0.000    0.000    0.000 {method 'disable' of '_lsprof.Profiler' objects}\n",
      "\n",
      "\n"
     ]
    }
   ],
   "source": [
    "part = sys_argv[1]\n",
    "if part == \"part1\":\n",
    "    cProfile.run(\"part1()\")\n",
    "elif part == \"part2\":\n",
    "    print(part)\n",
    "elif part == \"part3\":\n",
    "    print(part)\n",
    "else:\n",
    "    print(\"You did not enter 'part1', 'part2', or 'part3' to run the program. Please check your input.  Thank you.\")"
   ]
  },
  {
   "cell_type": "code",
   "execution_count": null,
   "metadata": {},
   "outputs": [],
   "source": []
  }
 ],
 "metadata": {
  "kernelspec": {
   "display_name": "Python 3",
   "language": "python",
   "name": "python3"
  },
  "language_info": {
   "codemirror_mode": {
    "name": "ipython",
    "version": 3
   },
   "file_extension": ".py",
   "mimetype": "text/x-python",
   "name": "python",
   "nbconvert_exporter": "python",
   "pygments_lexer": "ipython3",
   "version": "3.7.1"
  }
 },
 "nbformat": 4,
 "nbformat_minor": 2
}
